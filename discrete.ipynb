{
 "cells": [
  {
   "cell_type": "code",
   "id": "initial_id",
   "metadata": {
    "collapsed": true,
    "ExecuteTime": {
     "end_time": "2024-09-04T09:28:14.945625Z",
     "start_time": "2024-09-04T09:28:13.863414Z"
    }
   },
   "source": [
    "import torch\n",
    "from botorch.test_functions import Ackley\n",
    "from discrete_mixed_bo.problems.base import DiscretizedBotorchTestProblem"
   ],
   "outputs": [],
   "execution_count": 1
  },
  {
   "metadata": {
    "ExecuteTime": {
     "end_time": "2024-09-04T09:28:14.950483Z",
     "start_time": "2024-09-04T09:28:14.946764Z"
    }
   },
   "cell_type": "code",
   "source": [
    "dim = 20\n",
    "integer_bounds = torch.zeros(2, dim - 5)\n",
    "integer_bounds[1, :5] = 2  # 3 values\n",
    "integer_bounds[1, 5:10] = 4  # 5 values\n",
    "integer_bounds[1, 10:15] = 9  # 10 values\n",
    "ackley = Ackley(dim=dim, negate=True)\n",
    "d_ackley = DiscretizedBotorchTestProblem(\n",
    "    problem=ackley,\n",
    "    integer_indices=list(range(dim - 5)),\n",
    "    integer_bounds=integer_bounds,\n",
    ")"
   ],
   "id": "7d9b0316a50a876b",
   "outputs": [],
   "execution_count": 2
  },
  {
   "metadata": {
    "ExecuteTime": {
     "end_time": "2024-09-04T09:28:14.955765Z",
     "start_time": "2024-09-04T09:28:14.951143Z"
    }
   },
   "cell_type": "code",
   "source": "d_ackley.bounds.T",
   "id": "b5af41f58e35bec9",
   "outputs": [
    {
     "data": {
      "text/plain": [
       "tensor([[-32.7680,  32.7680],\n",
       "        [-32.7680,  32.7680],\n",
       "        [-32.7680,  32.7680],\n",
       "        [-32.7680,  32.7680],\n",
       "        [-32.7680,  32.7680],\n",
       "        [  0.0000,   2.0000],\n",
       "        [  0.0000,   2.0000],\n",
       "        [  0.0000,   2.0000],\n",
       "        [  0.0000,   2.0000],\n",
       "        [  0.0000,   2.0000],\n",
       "        [  0.0000,   4.0000],\n",
       "        [  0.0000,   4.0000],\n",
       "        [  0.0000,   4.0000],\n",
       "        [  0.0000,   4.0000],\n",
       "        [  0.0000,   4.0000],\n",
       "        [  0.0000,   9.0000],\n",
       "        [  0.0000,   9.0000],\n",
       "        [  0.0000,   9.0000],\n",
       "        [  0.0000,   9.0000],\n",
       "        [  0.0000,   9.0000]])"
      ]
     },
     "execution_count": 3,
     "metadata": {},
     "output_type": "execute_result"
    }
   ],
   "execution_count": 3
  },
  {
   "metadata": {
    "ExecuteTime": {
     "end_time": "2024-09-04T09:28:14.958913Z",
     "start_time": "2024-09-04T09:28:14.956528Z"
    }
   },
   "cell_type": "code",
   "source": "d_ackley._orig_integer_indices",
   "id": "cba6ae6698562ed1",
   "outputs": [
    {
     "data": {
      "text/plain": [
       "tensor([ 0,  1,  2,  3,  4,  5,  6,  7,  8,  9, 10, 11, 12, 13, 14])"
      ]
     },
     "execution_count": 4,
     "metadata": {},
     "output_type": "execute_result"
    }
   ],
   "execution_count": 4
  },
  {
   "metadata": {
    "ExecuteTime": {
     "end_time": "2024-09-04T09:28:14.962559Z",
     "start_time": "2024-09-04T09:28:14.960371Z"
    }
   },
   "cell_type": "code",
   "source": "d_ackley._orig_categorical_indices",
   "id": "92969f29cec177be",
   "outputs": [
    {
     "data": {
      "text/plain": [
       "tensor([], dtype=torch.int64)"
      ]
     },
     "execution_count": 5,
     "metadata": {},
     "output_type": "execute_result"
    }
   ],
   "execution_count": 5
  },
  {
   "metadata": {
    "ExecuteTime": {
     "end_time": "2024-09-04T09:28:14.966117Z",
     "start_time": "2024-09-04T09:28:14.963550Z"
    }
   },
   "cell_type": "code",
   "source": "d_ackley._orig_cont_indices",
   "id": "bd214e53af59e189",
   "outputs": [
    {
     "data": {
      "text/plain": [
       "tensor([15, 16, 17, 18, 19])"
      ]
     },
     "execution_count": 6,
     "metadata": {},
     "output_type": "execute_result"
    }
   ],
   "execution_count": 6
  },
  {
   "metadata": {
    "ExecuteTime": {
     "end_time": "2024-09-04T09:28:29.045356Z",
     "start_time": "2024-09-04T09:28:29.041894Z"
    }
   },
   "cell_type": "code",
   "source": "d_ackley._orig_bounds",
   "id": "b6ddd006eb50b73e",
   "outputs": [
    {
     "data": {
      "text/plain": [
       "tensor([[  0.0000,   0.0000,   0.0000,   0.0000,   0.0000,   0.0000,   0.0000,\n",
       "           0.0000,   0.0000,   0.0000,   0.0000,   0.0000,   0.0000,   0.0000,\n",
       "           0.0000, -32.7680, -32.7680, -32.7680, -32.7680, -32.7680],\n",
       "        [  2.0000,   2.0000,   2.0000,   2.0000,   2.0000,   4.0000,   4.0000,\n",
       "           4.0000,   4.0000,   4.0000,   9.0000,   9.0000,   9.0000,   9.0000,\n",
       "           9.0000,  32.7680,  32.7680,  32.7680,  32.7680,  32.7680]])"
      ]
     },
     "execution_count": 7,
     "metadata": {},
     "output_type": "execute_result"
    }
   ],
   "execution_count": 7
  },
  {
   "metadata": {
    "ExecuteTime": {
     "end_time": "2024-09-04T09:31:12.863894Z",
     "start_time": "2024-09-04T09:31:12.858757Z"
    }
   },
   "cell_type": "code",
   "source": [
    "# if no categorical indices, one-hot bounds should be equal to bounds\n",
    "torch.eq(d_ackley.one_hot_bounds.T, d_ackley.bounds.T).all()"
   ],
   "id": "9c16ad51727ce301",
   "outputs": [
    {
     "data": {
      "text/plain": [
       "tensor(True)"
      ]
     },
     "execution_count": 10,
     "metadata": {},
     "output_type": "execute_result"
    }
   ],
   "execution_count": 10
  },
  {
   "metadata": {},
   "cell_type": "code",
   "outputs": [],
   "execution_count": null,
   "source": "",
   "id": "759d5e69d609151a"
  }
 ],
 "metadata": {
  "kernelspec": {
   "display_name": "Python 3",
   "language": "python",
   "name": "python3"
  },
  "language_info": {
   "codemirror_mode": {
    "name": "ipython",
    "version": 2
   },
   "file_extension": ".py",
   "mimetype": "text/x-python",
   "name": "python",
   "nbconvert_exporter": "python",
   "pygments_lexer": "ipython2",
   "version": "2.7.6"
  }
 },
 "nbformat": 4,
 "nbformat_minor": 5
}
